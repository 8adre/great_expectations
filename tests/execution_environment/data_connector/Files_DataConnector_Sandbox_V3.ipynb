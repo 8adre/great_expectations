{
 "cells": [
  {
   "cell_type": "markdown",
   "metadata": {},
   "source": [
    "# Sandbox for FilesDataConnector"
   ]
  },
  {
   "cell_type": "code",
   "execution_count": 5,
   "metadata": {},
   "outputs": [],
   "source": [
    "from great_expectations.execution_environment import *\n",
    "from great_expectations.execution_environment.execution_environment import *\n",
    "\n",
    "from great_expectations.execution_environment.data_connector import *\n"
   ]
  },
  {
   "cell_type": "code",
   "execution_count": 6,
   "metadata": {},
   "outputs": [],
   "source": [
    "import yaml"
   ]
  },
  {
   "cell_type": "code",
   "execution_count": null,
   "metadata": {},
   "outputs": [],
   "source": []
  },
  {
   "cell_type": "code",
   "execution_count": null,
   "metadata": {},
   "outputs": [],
   "source": []
  },
  {
   "cell_type": "code",
   "execution_count": 7,
   "metadata": {},
   "outputs": [],
   "source": [
    "# loading parameters\n",
    "execution_engine = {\n",
    "        \"class_name\": \"PandasExecutionEngine\",\n",
    "        \"module_name\": \"great_expectations.execution_engine.pandas_execution_engine\",\n",
    "    }\n",
    "\n",
    "\n",
    "yaml_str_nested = f\"\"\"\n",
    "my_files_connector:\n",
    "    class_name: FilesDataConnector\n",
    "    base_directory: /Users/work/Development/GE_Data/NestedDirectory/\n",
    "    asset_param:\n",
    "        test_assets:\n",
    "            partition_regex: (.*)/file.*\n",
    "            partition_param: [\"subdir_name\"]\n",
    "            partition_delimiter: \"-\"\n",
    "            reader_method: read_csv\n",
    "\"\"\"\n",
    "\n",
    "\n",
    "\n",
    "\n",
    "yaml_world_cup = f\"\"\"\n",
    "my_files_connector:\n",
    "    class_name: FilesDataConnector\n",
    "    base_directory: /Users/work/Development/GE_Data/world-cup-predictions/\n",
    "    asset_param:\n",
    "        test_assets:\n",
    "            #partition_regex: (.*)/file.*\n",
    "            #partition_param: [\"subdir_name\"]\n",
    "            #partition_delimiter: \"-\"\n",
    "            reader_method: read_csv\n",
    "\"\"\"\n",
    "\n",
    "\n",
    "\n",
    "yaml_march_madness = f\"\"\"\n",
    "my_files_connector:\n",
    "    class_name: FilesDataConnector\n",
    "    base_directory: /Users/work/Development/GE_Data/march-madness-predictions-2015/\n",
    "    asset_param:\n",
    "        test_assets:\n",
    "            partition_regex: (.*)/bracket.*\n",
    "            partition_param: [\"gender\"]\n",
    "            partition_delimiter: \"-\"\n",
    "            reader_method: read_csv\n",
    "\"\"\"\n",
    "\n",
    "\n",
    "\n",
    "\n",
    "\n",
    "data_connectors = yaml.safe_load(yaml_march_madness)"
   ]
  },
  {
   "cell_type": "code",
   "execution_count": 8,
   "metadata": {},
   "outputs": [],
   "source": [
    "execution_environment = ExecutionEnvironment(\n",
    "    name=\"foo\", execution_engine=execution_engine, data_connectors=data_connectors\n",
    ")"
   ]
  },
  {
   "cell_type": "code",
   "execution_count": 9,
   "metadata": {},
   "outputs": [],
   "source": [
    "def test_data_connector_config(my_connector):\n",
    "    data_asset_names = my_connector.get_available_data_asset_names()\n",
    "    print(\"=== Data asset names ===\")\n",
    "    for key in data_asset_names.keys():\n",
    "        print(key)\n",
    "        asset_list = data_asset_names[key]\n",
    "        for asset in asset_list:\n",
    "            print(\"\\t\" + asset)\n",
    "    \n",
    "    print(\"\\n=== Partitions ===\")\n",
    "    for data_asset_name in data_asset_names:\n",
    "        partitions = my_connector.get_available_partitions(data_asset_name=data_asset_name)\n",
    "        for partition in partitions:\n",
    "            print(str(data_asset_name) + \" : \" + str(partition))"
   ]
  },
  {
   "cell_type": "code",
   "execution_count": 10,
   "metadata": {},
   "outputs": [
    {
     "name": "stdout",
     "output_type": "stream",
     "text": [
      "=== Data asset names ===\n",
      "test_assets\n",
      "\t/Users/work/Development/GE_Data/march-madness-predictions-2015/mens/bracket-00-no-moore.tsv\n",
      "\t/Users/work/Development/GE_Data/march-madness-predictions-2015/mens/bracket-00.tsv\n",
      "\t/Users/work/Development/GE_Data/march-madness-predictions-2015/mens/bracket-01.tsv\n",
      "\t/Users/work/Development/GE_Data/march-madness-predictions-2015/mens/bracket-02.tsv\n",
      "\t/Users/work/Development/GE_Data/march-madness-predictions-2015/mens/bracket-03.tsv\n",
      "\t/Users/work/Development/GE_Data/march-madness-predictions-2015/mens/bracket-04.tsv\n",
      "\t/Users/work/Development/GE_Data/march-madness-predictions-2015/mens/bracket-05.tsv\n",
      "\t/Users/work/Development/GE_Data/march-madness-predictions-2015/mens/bracket-06.tsv\n",
      "\t/Users/work/Development/GE_Data/march-madness-predictions-2015/mens/bracket-07.tsv\n",
      "\t/Users/work/Development/GE_Data/march-madness-predictions-2015/mens/bracket-08.tsv\n",
      "\t/Users/work/Development/GE_Data/march-madness-predictions-2015/mens/bracket-09.tsv\n",
      "\t/Users/work/Development/GE_Data/march-madness-predictions-2015/mens/bracket-10.tsv\n",
      "\t/Users/work/Development/GE_Data/march-madness-predictions-2015/mens/bracket-11.tsv\n",
      "\t/Users/work/Development/GE_Data/march-madness-predictions-2015/mens/bracket-12.tsv\n",
      "\t/Users/work/Development/GE_Data/march-madness-predictions-2015/mens/bracket-13.tsv\n",
      "\t/Users/work/Development/GE_Data/march-madness-predictions-2015/mens/bracket-14.tsv\n",
      "\t/Users/work/Development/GE_Data/march-madness-predictions-2015/mens/bracket-15.tsv\n",
      "\t/Users/work/Development/GE_Data/march-madness-predictions-2015/mens/bracket-16.tsv\n",
      "\t/Users/work/Development/GE_Data/march-madness-predictions-2015/mens/bracket-17.tsv\n",
      "\t/Users/work/Development/GE_Data/march-madness-predictions-2015/mens/bracket-18.tsv\n",
      "\t/Users/work/Development/GE_Data/march-madness-predictions-2015/mens/bracket-19.tsv\n",
      "\t/Users/work/Development/GE_Data/march-madness-predictions-2015/mens/bracket-20.tsv\n",
      "\t/Users/work/Development/GE_Data/march-madness-predictions-2015/mens/bracket-21.tsv\n",
      "\t/Users/work/Development/GE_Data/march-madness-predictions-2015/mens/bracket-22.tsv\n",
      "\t/Users/work/Development/GE_Data/march-madness-predictions-2015/mens/bracket-23.tsv\n",
      "\t/Users/work/Development/GE_Data/march-madness-predictions-2015/mens/bracket-24.tsv\n",
      "\t/Users/work/Development/GE_Data/march-madness-predictions-2015/mens/bracket-25.tsv\n",
      "\t/Users/work/Development/GE_Data/march-madness-predictions-2015/mens/bracket-26.tsv\n",
      "\t/Users/work/Development/GE_Data/march-madness-predictions-2015/mens/bracket-27.tsv\n",
      "\t/Users/work/Development/GE_Data/march-madness-predictions-2015/mens/bracket-28.tsv\n",
      "\t/Users/work/Development/GE_Data/march-madness-predictions-2015/mens/bracket-29.tsv\n",
      "\t/Users/work/Development/GE_Data/march-madness-predictions-2015/mens/bracket-30.tsv\n",
      "\t/Users/work/Development/GE_Data/march-madness-predictions-2015/mens/bracket-31.tsv\n",
      "\t/Users/work/Development/GE_Data/march-madness-predictions-2015/mens/bracket-32.tsv\n",
      "\t/Users/work/Development/GE_Data/march-madness-predictions-2015/mens/bracket-33.tsv\n",
      "\t/Users/work/Development/GE_Data/march-madness-predictions-2015/mens/bracket-34.tsv\n",
      "\t/Users/work/Development/GE_Data/march-madness-predictions-2015/mens/bracket-35.tsv\n",
      "\t/Users/work/Development/GE_Data/march-madness-predictions-2015/mens/bracket-36.tsv\n",
      "\t/Users/work/Development/GE_Data/march-madness-predictions-2015/mens/bracket-37.tsv\n",
      "\t/Users/work/Development/GE_Data/march-madness-predictions-2015/mens/bracket-38.tsv\n",
      "\t/Users/work/Development/GE_Data/march-madness-predictions-2015/mens/bracket-39.tsv\n",
      "\t/Users/work/Development/GE_Data/march-madness-predictions-2015/mens/bracket-40.tsv\n",
      "\t/Users/work/Development/GE_Data/march-madness-predictions-2015/mens/bracket-41.tsv\n",
      "\t/Users/work/Development/GE_Data/march-madness-predictions-2015/mens/bracket-42.tsv\n",
      "\t/Users/work/Development/GE_Data/march-madness-predictions-2015/mens/bracket-43.tsv\n",
      "\t/Users/work/Development/GE_Data/march-madness-predictions-2015/mens/bracket-44.tsv\n",
      "\t/Users/work/Development/GE_Data/march-madness-predictions-2015/mens/bracket-45.tsv\n",
      "\t/Users/work/Development/GE_Data/march-madness-predictions-2015/mens/bracket-46.tsv\n",
      "\t/Users/work/Development/GE_Data/march-madness-predictions-2015/mens/bracket-47.tsv\n",
      "\t/Users/work/Development/GE_Data/march-madness-predictions-2015/mens/bracket-48.tsv\n",
      "\t/Users/work/Development/GE_Data/march-madness-predictions-2015/mens/bracket-49.tsv\n",
      "\t/Users/work/Development/GE_Data/march-madness-predictions-2015/mens/bracket-50.tsv\n",
      "\t/Users/work/Development/GE_Data/march-madness-predictions-2015/mens/bracket-51.tsv\n",
      "\t/Users/work/Development/GE_Data/march-madness-predictions-2015/mens/bracket-52.tsv\n",
      "\t/Users/work/Development/GE_Data/march-madness-predictions-2015/mens/bracket-53.tsv\n",
      "\t/Users/work/Development/GE_Data/march-madness-predictions-2015/mens/bracket-54.tsv\n",
      "\t/Users/work/Development/GE_Data/march-madness-predictions-2015/mens/bracket-55.tsv\n",
      "\t/Users/work/Development/GE_Data/march-madness-predictions-2015/mens/bracket-56.tsv\n",
      "\t/Users/work/Development/GE_Data/march-madness-predictions-2015/mens/bracket-57.tsv\n",
      "\t/Users/work/Development/GE_Data/march-madness-predictions-2015/mens/bracket-58.tsv\n",
      "\t/Users/work/Development/GE_Data/march-madness-predictions-2015/mens/bracket-59.tsv\n",
      "\t/Users/work/Development/GE_Data/march-madness-predictions-2015/mens/bracket-60.tsv\n",
      "\t/Users/work/Development/GE_Data/march-madness-predictions-2015/mens/bracket-61.tsv\n",
      "\t/Users/work/Development/GE_Data/march-madness-predictions-2015/mens/bracket-62.tsv\n",
      "\t/Users/work/Development/GE_Data/march-madness-predictions-2015/mens/bracket-63.tsv\n",
      "\t/Users/work/Development/GE_Data/march-madness-predictions-2015/womens/bracket-00.tsv\n",
      "\t/Users/work/Development/GE_Data/march-madness-predictions-2015/womens/bracket-01.tsv\n",
      "\t/Users/work/Development/GE_Data/march-madness-predictions-2015/womens/bracket-02.tsv\n",
      "\t/Users/work/Development/GE_Data/march-madness-predictions-2015/womens/bracket-03.tsv\n",
      "\t/Users/work/Development/GE_Data/march-madness-predictions-2015/womens/bracket-04.tsv\n",
      "\t/Users/work/Development/GE_Data/march-madness-predictions-2015/womens/bracket-05.tsv\n",
      "\t/Users/work/Development/GE_Data/march-madness-predictions-2015/womens/bracket-06.tsv\n",
      "\t/Users/work/Development/GE_Data/march-madness-predictions-2015/womens/bracket-07.tsv\n",
      "\t/Users/work/Development/GE_Data/march-madness-predictions-2015/womens/bracket-08.tsv\n",
      "\t/Users/work/Development/GE_Data/march-madness-predictions-2015/womens/bracket-09.tsv\n",
      "\t/Users/work/Development/GE_Data/march-madness-predictions-2015/womens/bracket-10.tsv\n",
      "\t/Users/work/Development/GE_Data/march-madness-predictions-2015/womens/bracket-11.tsv\n",
      "\t/Users/work/Development/GE_Data/march-madness-predictions-2015/womens/bracket-12.tsv\n",
      "\t/Users/work/Development/GE_Data/march-madness-predictions-2015/womens/bracket-13.tsv\n",
      "\t/Users/work/Development/GE_Data/march-madness-predictions-2015/womens/bracket-14.tsv\n",
      "\t/Users/work/Development/GE_Data/march-madness-predictions-2015/womens/bracket-15.tsv\n",
      "\t/Users/work/Development/GE_Data/march-madness-predictions-2015/womens/bracket-16.tsv\n",
      "\t/Users/work/Development/GE_Data/march-madness-predictions-2015/womens/bracket-17.tsv\n",
      "\t/Users/work/Development/GE_Data/march-madness-predictions-2015/womens/bracket-18.tsv\n",
      "\t/Users/work/Development/GE_Data/march-madness-predictions-2015/womens/bracket-19.tsv\n",
      "\t/Users/work/Development/GE_Data/march-madness-predictions-2015/womens/bracket-20.tsv\n",
      "\t/Users/work/Development/GE_Data/march-madness-predictions-2015/womens/bracket-21.tsv\n",
      "\t/Users/work/Development/GE_Data/march-madness-predictions-2015/womens/bracket-22.tsv\n",
      "\t/Users/work/Development/GE_Data/march-madness-predictions-2015/womens/bracket-23.tsv\n",
      "\t/Users/work/Development/GE_Data/march-madness-predictions-2015/womens/bracket-24.tsv\n",
      "\t/Users/work/Development/GE_Data/march-madness-predictions-2015/womens/bracket-25.tsv\n",
      "\t/Users/work/Development/GE_Data/march-madness-predictions-2015/womens/bracket-26.tsv\n",
      "\t/Users/work/Development/GE_Data/march-madness-predictions-2015/womens/bracket-27.tsv\n",
      "\t/Users/work/Development/GE_Data/march-madness-predictions-2015/womens/bracket-28.tsv\n",
      "\t/Users/work/Development/GE_Data/march-madness-predictions-2015/womens/bracket-29.tsv\n",
      "\t/Users/work/Development/GE_Data/march-madness-predictions-2015/womens/bracket-30.tsv\n",
      "\t/Users/work/Development/GE_Data/march-madness-predictions-2015/womens/bracket-31.tsv\n",
      "\n",
      "=== Partitions ===\n",
      "test_assets : {'partition_definition': {'gender': 'mens'}, 'partition_id': 'mens'}\n",
      "test_assets : {'partition_definition': {'gender': 'mens'}, 'partition_id': 'mens'}\n",
      "test_assets : {'partition_definition': {'gender': 'mens'}, 'partition_id': 'mens'}\n",
      "test_assets : {'partition_definition': {'gender': 'mens'}, 'partition_id': 'mens'}\n",
      "test_assets : {'partition_definition': {'gender': 'mens'}, 'partition_id': 'mens'}\n",
      "test_assets : {'partition_definition': {'gender': 'mens'}, 'partition_id': 'mens'}\n",
      "test_assets : {'partition_definition': {'gender': 'mens'}, 'partition_id': 'mens'}\n",
      "test_assets : {'partition_definition': {'gender': 'mens'}, 'partition_id': 'mens'}\n",
      "test_assets : {'partition_definition': {'gender': 'mens'}, 'partition_id': 'mens'}\n",
      "test_assets : {'partition_definition': {'gender': 'mens'}, 'partition_id': 'mens'}\n",
      "test_assets : {'partition_definition': {'gender': 'mens'}, 'partition_id': 'mens'}\n",
      "test_assets : {'partition_definition': {'gender': 'mens'}, 'partition_id': 'mens'}\n",
      "test_assets : {'partition_definition': {'gender': 'mens'}, 'partition_id': 'mens'}\n",
      "test_assets : {'partition_definition': {'gender': 'mens'}, 'partition_id': 'mens'}\n",
      "test_assets : {'partition_definition': {'gender': 'mens'}, 'partition_id': 'mens'}\n",
      "test_assets : {'partition_definition': {'gender': 'mens'}, 'partition_id': 'mens'}\n",
      "test_assets : {'partition_definition': {'gender': 'mens'}, 'partition_id': 'mens'}\n",
      "test_assets : {'partition_definition': {'gender': 'mens'}, 'partition_id': 'mens'}\n",
      "test_assets : {'partition_definition': {'gender': 'mens'}, 'partition_id': 'mens'}\n",
      "test_assets : {'partition_definition': {'gender': 'mens'}, 'partition_id': 'mens'}\n",
      "test_assets : {'partition_definition': {'gender': 'mens'}, 'partition_id': 'mens'}\n",
      "test_assets : {'partition_definition': {'gender': 'mens'}, 'partition_id': 'mens'}\n",
      "test_assets : {'partition_definition': {'gender': 'mens'}, 'partition_id': 'mens'}\n",
      "test_assets : {'partition_definition': {'gender': 'mens'}, 'partition_id': 'mens'}\n",
      "test_assets : {'partition_definition': {'gender': 'mens'}, 'partition_id': 'mens'}\n",
      "test_assets : {'partition_definition': {'gender': 'mens'}, 'partition_id': 'mens'}\n",
      "test_assets : {'partition_definition': {'gender': 'mens'}, 'partition_id': 'mens'}\n",
      "test_assets : {'partition_definition': {'gender': 'mens'}, 'partition_id': 'mens'}\n",
      "test_assets : {'partition_definition': {'gender': 'mens'}, 'partition_id': 'mens'}\n",
      "test_assets : {'partition_definition': {'gender': 'mens'}, 'partition_id': 'mens'}\n",
      "test_assets : {'partition_definition': {'gender': 'mens'}, 'partition_id': 'mens'}\n",
      "test_assets : {'partition_definition': {'gender': 'mens'}, 'partition_id': 'mens'}\n",
      "test_assets : {'partition_definition': {'gender': 'mens'}, 'partition_id': 'mens'}\n",
      "test_assets : {'partition_definition': {'gender': 'mens'}, 'partition_id': 'mens'}\n",
      "test_assets : {'partition_definition': {'gender': 'mens'}, 'partition_id': 'mens'}\n",
      "test_assets : {'partition_definition': {'gender': 'mens'}, 'partition_id': 'mens'}\n",
      "test_assets : {'partition_definition': {'gender': 'mens'}, 'partition_id': 'mens'}\n",
      "test_assets : {'partition_definition': {'gender': 'mens'}, 'partition_id': 'mens'}\n",
      "test_assets : {'partition_definition': {'gender': 'mens'}, 'partition_id': 'mens'}\n",
      "test_assets : {'partition_definition': {'gender': 'mens'}, 'partition_id': 'mens'}\n",
      "test_assets : {'partition_definition': {'gender': 'mens'}, 'partition_id': 'mens'}\n",
      "test_assets : {'partition_definition': {'gender': 'mens'}, 'partition_id': 'mens'}\n",
      "test_assets : {'partition_definition': {'gender': 'mens'}, 'partition_id': 'mens'}\n",
      "test_assets : {'partition_definition': {'gender': 'mens'}, 'partition_id': 'mens'}\n",
      "test_assets : {'partition_definition': {'gender': 'mens'}, 'partition_id': 'mens'}\n",
      "test_assets : {'partition_definition': {'gender': 'mens'}, 'partition_id': 'mens'}\n",
      "test_assets : {'partition_definition': {'gender': 'mens'}, 'partition_id': 'mens'}\n",
      "test_assets : {'partition_definition': {'gender': 'mens'}, 'partition_id': 'mens'}\n",
      "test_assets : {'partition_definition': {'gender': 'mens'}, 'partition_id': 'mens'}\n",
      "test_assets : {'partition_definition': {'gender': 'mens'}, 'partition_id': 'mens'}\n",
      "test_assets : {'partition_definition': {'gender': 'mens'}, 'partition_id': 'mens'}\n",
      "test_assets : {'partition_definition': {'gender': 'mens'}, 'partition_id': 'mens'}\n",
      "test_assets : {'partition_definition': {'gender': 'mens'}, 'partition_id': 'mens'}\n",
      "test_assets : {'partition_definition': {'gender': 'mens'}, 'partition_id': 'mens'}\n",
      "test_assets : {'partition_definition': {'gender': 'mens'}, 'partition_id': 'mens'}\n",
      "test_assets : {'partition_definition': {'gender': 'mens'}, 'partition_id': 'mens'}\n",
      "test_assets : {'partition_definition': {'gender': 'mens'}, 'partition_id': 'mens'}\n",
      "test_assets : {'partition_definition': {'gender': 'mens'}, 'partition_id': 'mens'}\n",
      "test_assets : {'partition_definition': {'gender': 'mens'}, 'partition_id': 'mens'}\n",
      "test_assets : {'partition_definition': {'gender': 'mens'}, 'partition_id': 'mens'}\n",
      "test_assets : {'partition_definition': {'gender': 'mens'}, 'partition_id': 'mens'}\n",
      "test_assets : {'partition_definition': {'gender': 'mens'}, 'partition_id': 'mens'}\n",
      "test_assets : {'partition_definition': {'gender': 'mens'}, 'partition_id': 'mens'}\n",
      "test_assets : {'partition_definition': {'gender': 'mens'}, 'partition_id': 'mens'}\n",
      "test_assets : {'partition_definition': {'gender': 'mens'}, 'partition_id': 'mens'}\n",
      "test_assets : {'partition_definition': {'gender': 'womens'}, 'partition_id': 'womens'}\n",
      "test_assets : {'partition_definition': {'gender': 'womens'}, 'partition_id': 'womens'}\n",
      "test_assets : {'partition_definition': {'gender': 'womens'}, 'partition_id': 'womens'}\n",
      "test_assets : {'partition_definition': {'gender': 'womens'}, 'partition_id': 'womens'}\n",
      "test_assets : {'partition_definition': {'gender': 'womens'}, 'partition_id': 'womens'}\n",
      "test_assets : {'partition_definition': {'gender': 'womens'}, 'partition_id': 'womens'}\n",
      "test_assets : {'partition_definition': {'gender': 'womens'}, 'partition_id': 'womens'}\n",
      "test_assets : {'partition_definition': {'gender': 'womens'}, 'partition_id': 'womens'}\n",
      "test_assets : {'partition_definition': {'gender': 'womens'}, 'partition_id': 'womens'}\n",
      "test_assets : {'partition_definition': {'gender': 'womens'}, 'partition_id': 'womens'}\n",
      "test_assets : {'partition_definition': {'gender': 'womens'}, 'partition_id': 'womens'}\n",
      "test_assets : {'partition_definition': {'gender': 'womens'}, 'partition_id': 'womens'}\n",
      "test_assets : {'partition_definition': {'gender': 'womens'}, 'partition_id': 'womens'}\n",
      "test_assets : {'partition_definition': {'gender': 'womens'}, 'partition_id': 'womens'}\n",
      "test_assets : {'partition_definition': {'gender': 'womens'}, 'partition_id': 'womens'}\n",
      "test_assets : {'partition_definition': {'gender': 'womens'}, 'partition_id': 'womens'}\n",
      "test_assets : {'partition_definition': {'gender': 'womens'}, 'partition_id': 'womens'}\n",
      "test_assets : {'partition_definition': {'gender': 'womens'}, 'partition_id': 'womens'}\n",
      "test_assets : {'partition_definition': {'gender': 'womens'}, 'partition_id': 'womens'}\n",
      "test_assets : {'partition_definition': {'gender': 'womens'}, 'partition_id': 'womens'}\n",
      "test_assets : {'partition_definition': {'gender': 'womens'}, 'partition_id': 'womens'}\n",
      "test_assets : {'partition_definition': {'gender': 'womens'}, 'partition_id': 'womens'}\n",
      "test_assets : {'partition_definition': {'gender': 'womens'}, 'partition_id': 'womens'}\n",
      "test_assets : {'partition_definition': {'gender': 'womens'}, 'partition_id': 'womens'}\n",
      "test_assets : {'partition_definition': {'gender': 'womens'}, 'partition_id': 'womens'}\n",
      "test_assets : {'partition_definition': {'gender': 'womens'}, 'partition_id': 'womens'}\n",
      "test_assets : {'partition_definition': {'gender': 'womens'}, 'partition_id': 'womens'}\n",
      "test_assets : {'partition_definition': {'gender': 'womens'}, 'partition_id': 'womens'}\n",
      "test_assets : {'partition_definition': {'gender': 'womens'}, 'partition_id': 'womens'}\n",
      "test_assets : {'partition_definition': {'gender': 'womens'}, 'partition_id': 'womens'}\n",
      "test_assets : {'partition_definition': {'gender': 'womens'}, 'partition_id': 'womens'}\n",
      "test_assets : {'partition_definition': {'gender': 'womens'}, 'partition_id': 'womens'}\n"
     ]
    }
   ],
   "source": [
    "my_connector = execution_environment.get_data_connector(\"my_files_connector\")\n",
    "#result_we_get = my_connector.get_available_partitions(data_asset_name=\"test_assets\")\n",
    "test_data_connector_config(my_connector)\n"
   ]
  },
  {
   "cell_type": "code",
   "execution_count": 24,
   "metadata": {},
   "outputs": [
    {
     "data": {
      "text/plain": [
       "['100', '100', '100', '101', '101', '101', '102', '102', '102']"
      ]
     },
     "execution_count": 24,
     "metadata": {},
     "output_type": "execute_result"
    }
   ],
   "source": [
    "result_we_get = my_connector.get_available_partition_ids(data_asset_name=\"test_assets\")\n",
    "result_we_get"
   ]
  },
  {
   "cell_type": "code",
   "execution_count": 25,
   "metadata": {},
   "outputs": [
    {
     "data": {
      "text/plain": [
       "[{'subdir_name': '100'},\n",
       " {'subdir_name': '100'},\n",
       " {'subdir_name': '100'},\n",
       " {'subdir_name': '101'},\n",
       " {'subdir_name': '101'},\n",
       " {'subdir_name': '101'},\n",
       " {'subdir_name': '102'},\n",
       " {'subdir_name': '102'},\n",
       " {'subdir_name': '102'}]"
      ]
     },
     "execution_count": 25,
     "metadata": {},
     "output_type": "execute_result"
    }
   ],
   "source": [
    "result_we_get = my_connector.get_available_partition_definitions(data_asset_name=\"test_assets\")\n",
    "result_we_get"
   ]
  },
  {
   "cell_type": "markdown",
   "metadata": {},
   "source": [
    "# Experiments"
   ]
  },
  {
   "cell_type": "code",
   "execution_count": 49,
   "metadata": {},
   "outputs": [],
   "source": [
    "import glob\n",
    "import os\n",
    "import re"
   ]
  },
  {
   "cell_type": "code",
   "execution_count": 50,
   "metadata": {},
   "outputs": [
    {
     "data": {
      "text/plain": [
       "[]"
      ]
     },
     "execution_count": 50,
     "metadata": {},
     "output_type": "execute_result"
    }
   ],
   "source": [
    "glob.glob(\"/Users/work/Development/GE_Data/NestedDirectory\" + \"/*.csv\", recursive=True)"
   ]
  },
  {
   "cell_type": "code",
   "execution_count": 51,
   "metadata": {},
   "outputs": [
    {
     "data": {
      "text/plain": [
       "['/Users/work/Development/GE_Data/NestedDirectory/',\n",
       " '/Users/work/Development/GE_Data/NestedDirectory/102',\n",
       " '/Users/work/Development/GE_Data/NestedDirectory/102/file_2020_1.csv',\n",
       " '/Users/work/Development/GE_Data/NestedDirectory/102/file_2020_3.csv',\n",
       " '/Users/work/Development/GE_Data/NestedDirectory/102/file_2020_2.csv',\n",
       " '/Users/work/Development/GE_Data/NestedDirectory/100',\n",
       " '/Users/work/Development/GE_Data/NestedDirectory/100/file_2020_1.csv',\n",
       " '/Users/work/Development/GE_Data/NestedDirectory/100/file_2020_3.csv',\n",
       " '/Users/work/Development/GE_Data/NestedDirectory/100/file_2020_2.csv',\n",
       " '/Users/work/Development/GE_Data/NestedDirectory/101',\n",
       " '/Users/work/Development/GE_Data/NestedDirectory/101/file_2020_1.csv',\n",
       " '/Users/work/Development/GE_Data/NestedDirectory/101/file_2020_3.csv',\n",
       " '/Users/work/Development/GE_Data/NestedDirectory/101/file_2020_2.csv']"
      ]
     },
     "execution_count": 51,
     "metadata": {},
     "output_type": "execute_result"
    }
   ],
   "source": [
    "glob.glob(\"/Users/work/Development/GE_Data/NestedDirectory\" + \"/**\", recursive=True)"
   ]
  },
  {
   "cell_type": "code",
   "execution_count": 52,
   "metadata": {},
   "outputs": [
    {
     "data": {
      "text/plain": [
       "['/Users/work/Development/GE_Data/NestedDirectory/102',\n",
       " '/Users/work/Development/GE_Data/NestedDirectory/100',\n",
       " '/Users/work/Development/GE_Data/NestedDirectory/101']"
      ]
     },
     "execution_count": 52,
     "metadata": {},
     "output_type": "execute_result"
    }
   ],
   "source": [
    "glob.glob(\"/Users/work/Development/GE_Data/NestedDirectory\" + \"/**\")"
   ]
  },
  {
   "cell_type": "code",
   "execution_count": 53,
   "metadata": {},
   "outputs": [
    {
     "data": {
      "text/plain": [
       "[]"
      ]
     },
     "execution_count": 53,
     "metadata": {},
     "output_type": "execute_result"
    }
   ],
   "source": [
    "glob.glob(\"/Users/work/Development/GE_Data/NestedDirectory/(.*)/file_(.*)_(.*).csv\", recursive=True)"
   ]
  },
  {
   "cell_type": "code",
   "execution_count": 54,
   "metadata": {},
   "outputs": [
    {
     "name": "stdout",
     "output_type": "stream",
     "text": [
      "['/Users/work/Development/GE_Data/NestedDirectory/100/file_2020_1.csv', '/Users/work/Development/GE_Data/NestedDirectory/100/file_2020_2.csv', '/Users/work/Development/GE_Data/NestedDirectory/100/file_2020_3.csv', '/Users/work/Development/GE_Data/NestedDirectory/101/file_2020_1.csv', '/Users/work/Development/GE_Data/NestedDirectory/101/file_2020_2.csv', '/Users/work/Development/GE_Data/NestedDirectory/101/file_2020_3.csv', '/Users/work/Development/GE_Data/NestedDirectory/102/file_2020_1.csv', '/Users/work/Development/GE_Data/NestedDirectory/102/file_2020_2.csv', '/Users/work/Development/GE_Data/NestedDirectory/102/file_2020_3.csv']\n"
     ]
    }
   ],
   "source": [
    "globs =  sorted(glob.glob(\"/Users/work/Development/GE_Data/NestedDirectory\"+ \"/**\", recursive=True))\n",
    "files = [f for f in globs if os.path.isfile(f)]\n",
    "print(files)"
   ]
  },
  {
   "cell_type": "code",
   "execution_count": 55,
   "metadata": {},
   "outputs": [
    {
     "name": "stdout",
     "output_type": "stream",
     "text": [
      "['/Users/work/Development/GE_Data/NestedDirectory/100/file_2020_1.csv', '/Users/work/Development/GE_Data/NestedDirectory/100/file_2020_2.csv', '/Users/work/Development/GE_Data/NestedDirectory/100/file_2020_3.csv', '/Users/work/Development/GE_Data/NestedDirectory/101/file_2020_1.csv', '/Users/work/Development/GE_Data/NestedDirectory/101/file_2020_2.csv', '/Users/work/Development/GE_Data/NestedDirectory/101/file_2020_3.csv', '/Users/work/Development/GE_Data/NestedDirectory/102/file_2020_1.csv', '/Users/work/Development/GE_Data/NestedDirectory/102/file_2020_2.csv', '/Users/work/Development/GE_Data/NestedDirectory/102/file_2020_3.csv']\n"
     ]
    }
   ],
   "source": [
    "globs =  sorted(glob.glob(\"/Users/work/Development/GE_Data/NestedDirectory\"+ \"/**\", recursive=True))\n",
    "files = [f for f in globs if os.path.isfile(f)]\n",
    "print(files)"
   ]
  },
  {
   "cell_type": "code",
   "execution_count": 60,
   "metadata": {},
   "outputs": [
    {
     "data": {
      "text/plain": [
       "['/Users/work/Development/GE_Data/NestedDirectory/100/file_2020_1.csv',\n",
       " '/Users/work/Development/GE_Data/NestedDirectory/100/file_2020_2.csv',\n",
       " '/Users/work/Development/GE_Data/NestedDirectory/100/file_2020_3.csv',\n",
       " '/Users/work/Development/GE_Data/NestedDirectory/101/file_2020_1.csv',\n",
       " '/Users/work/Development/GE_Data/NestedDirectory/101/file_2020_2.csv',\n",
       " '/Users/work/Development/GE_Data/NestedDirectory/101/file_2020_3.csv',\n",
       " '/Users/work/Development/GE_Data/NestedDirectory/102/file_2020_1.csv',\n",
       " '/Users/work/Development/GE_Data/NestedDirectory/102/file_2020_2.csv',\n",
       " '/Users/work/Development/GE_Data/NestedDirectory/102/file_2020_3.csv']"
      ]
     },
     "execution_count": 60,
     "metadata": {},
     "output_type": "execute_result"
    }
   ],
   "source": [
    "glob_config = {\"partition_regex\": r\"(.*)/file_(.*)_(.*).csv\"}\n",
    "\n",
    "pattern = re.compile(glob_config[\"partition_regex\"])\n",
    "\n",
    "files_to_return = [file for file in files if pattern.match(file)]\n",
    "\n",
    "files_to_return\n",
    "# python 3.8\n",
    "# pattern = re.compile('.*search.*')\n",
    "# items = ['hello', 'searched', 'world', 'still', 'searching']\n",
    "#if any((match := pattern.match(x)) for x in items):\n",
    "#  print(match.group(0))\n",
    "#lines_to_log = [line for line in output if r.match(line)]\n",
    "\n",
    "\n",
    "\n",
    "\n"
   ]
  },
  {
   "cell_type": "code",
   "execution_count": null,
   "metadata": {},
   "outputs": [],
   "source": []
  }
 ],
 "metadata": {
  "kernelspec": {
   "display_name": "Python 3",
   "language": "python",
   "name": "python3"
  },
  "language_info": {
   "codemirror_mode": {
    "name": "ipython",
    "version": 3
   },
   "file_extension": ".py",
   "mimetype": "text/x-python",
   "name": "python",
   "nbconvert_exporter": "python",
   "pygments_lexer": "ipython3",
   "version": "3.7.6"
  }
 },
 "nbformat": 4,
 "nbformat_minor": 4
}
